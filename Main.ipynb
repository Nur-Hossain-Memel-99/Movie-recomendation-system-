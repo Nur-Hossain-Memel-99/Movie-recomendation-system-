{
 "cells": [
  {
   "cell_type": "markdown",
   "id": "540b1b69",
   "metadata": {},
   "source": [
    "Movie recomendation system usiing collaberate filltering\n",
    "part 1: Implementing recomendation model(item to item)\n",
    "    \n",
    "    1.Nur Hossain Memel\n",
    "        CSE1802014009\n",
    "    2.Abdullah Al Noman\n",
    "        CSE1802014044\n",
    "    3.Md.Nazmil Islam Shanto\n",
    "        CSE1802014056"
   ]
  },
  {
   "cell_type": "code",
   "execution_count": 2,
   "id": "1ffb079f",
   "metadata": {},
   "outputs": [],
   "source": [
    "import pandas as pd\n",
    "from scipy import sparse\n",
    "from sklearn.metrics.pairwise import cosine_similarity"
   ]
  },
  {
   "cell_type": "code",
   "execution_count": 3,
   "id": "74eb4979",
   "metadata": {},
   "outputs": [
    {
     "data": {
      "text/html": [
       "<div>\n",
       "<style scoped>\n",
       "    .dataframe tbody tr th:only-of-type {\n",
       "        vertical-align: middle;\n",
       "    }\n",
       "\n",
       "    .dataframe tbody tr th {\n",
       "        vertical-align: top;\n",
       "    }\n",
       "\n",
       "    .dataframe thead th {\n",
       "        text-align: right;\n",
       "    }\n",
       "</style>\n",
       "<table border=\"1\" class=\"dataframe\">\n",
       "  <thead>\n",
       "    <tr style=\"text-align: right;\">\n",
       "      <th></th>\n",
       "      <th>action1,</th>\n",
       "      <th>action2</th>\n",
       "      <th>action3</th>\n",
       "      <th>romantic1</th>\n",
       "      <th>romantic2</th>\n",
       "      <th>romantic3</th>\n",
       "    </tr>\n",
       "  </thead>\n",
       "  <tbody>\n",
       "    <tr>\n",
       "      <th>user1</th>\n",
       "      <td>1</td>\n",
       "      <td>4</td>\n",
       "      <td>5.0</td>\n",
       "      <td>4.0</td>\n",
       "      <td>1.0</td>\n",
       "      <td>2</td>\n",
       "    </tr>\n",
       "    <tr>\n",
       "      <th>user2</th>\n",
       "      <td>2</td>\n",
       "      <td>5</td>\n",
       "      <td>3.0</td>\n",
       "      <td>3.0</td>\n",
       "      <td>3.0</td>\n",
       "      <td>1</td>\n",
       "    </tr>\n",
       "    <tr>\n",
       "      <th>user3</th>\n",
       "      <td>3</td>\n",
       "      <td>1</td>\n",
       "      <td>0.0</td>\n",
       "      <td>3.0</td>\n",
       "      <td>5.0</td>\n",
       "      <td>5</td>\n",
       "    </tr>\n",
       "    <tr>\n",
       "      <th>user4</th>\n",
       "      <td>4</td>\n",
       "      <td>2</td>\n",
       "      <td>1.0</td>\n",
       "      <td>0.0</td>\n",
       "      <td>3.0</td>\n",
       "      <td>5</td>\n",
       "    </tr>\n",
       "    <tr>\n",
       "      <th>user5</th>\n",
       "      <td>5</td>\n",
       "      <td>1</td>\n",
       "      <td>2.0</td>\n",
       "      <td>5.0</td>\n",
       "      <td>0.0</td>\n",
       "      <td>3</td>\n",
       "    </tr>\n",
       "  </tbody>\n",
       "</table>\n",
       "</div>"
      ],
      "text/plain": [
       "       action1,  action2  action3  romantic1  romantic2  romantic3\n",
       "user1         1        4      5.0        4.0        1.0          2\n",
       "user2         2        5      3.0        3.0        3.0          1\n",
       "user3         3        1      0.0        3.0        5.0          5\n",
       "user4         4        2      1.0        0.0        3.0          5\n",
       "user5         5        1      2.0        5.0        0.0          3"
      ]
     },
     "execution_count": 3,
     "metadata": {},
     "output_type": "execute_result"
    }
   ],
   "source": [
    "ratings = pd.read_csv(\"toy_dataset.csv\",index_col=0)\n",
    "ratings = ratings.fillna(0)\n",
    "ratings\n"
   ]
  },
  {
   "cell_type": "code",
   "execution_count": 5,
   "id": "4c5f56f1",
   "metadata": {},
   "outputs": [
    {
     "name": "stdout",
     "output_type": "stream",
     "text": [
      "[[ 1.00000000e+00 -7.83349452e-01 -6.57595949e-01 -8.45154255e-02\n",
      "  -1.62221421e-01  5.30330086e-01]\n",
      " [-7.83349452e-01  1.00000000e+00  7.44072949e-01 -4.46370308e-17\n",
      "  -8.47173742e-02 -8.15481128e-01]\n",
      " [-6.57595949e-01  7.44072949e-01  1.00000000e+00  4.16827511e-01\n",
      "  -6.26722378e-01 -8.13733471e-01]\n",
      " [-8.45154255e-02 -4.46370308e-17  4.16827511e-01  1.00000000e+00\n",
      "  -5.48408497e-01 -5.22912517e-01]\n",
      " [-1.62221421e-01 -8.47173742e-02 -6.26722378e-01 -5.48408497e-01\n",
      "   1.00000000e+00  4.73169951e-01]\n",
      " [ 5.30330086e-01 -8.15481128e-01 -8.13733471e-01 -5.22912517e-01\n",
      "   4.73169951e-01  1.00000000e+00]]\n"
     ]
    }
   ],
   "source": [
    "def standardize(row):\n",
    "    new_row = (row - row.mean())/(row.max()-row.min())\n",
    "    return new_row\n",
    "\n",
    "ratings_std = ratings.apply(standardize)\n",
    "\n",
    "##Recomendation model(item to item calculating angular distance)meanvalue=2\n",
    "item_similarity = cosine_similarity(ratings_std.T)\n",
    "print(item_similarity)\n"
   ]
  },
  {
   "cell_type": "code",
   "execution_count": 6,
   "id": "42817f38",
   "metadata": {},
   "outputs": [
    {
     "data": {
      "text/html": [
       "<div>\n",
       "<style scoped>\n",
       "    .dataframe tbody tr th:only-of-type {\n",
       "        vertical-align: middle;\n",
       "    }\n",
       "\n",
       "    .dataframe tbody tr th {\n",
       "        vertical-align: top;\n",
       "    }\n",
       "\n",
       "    .dataframe thead th {\n",
       "        text-align: right;\n",
       "    }\n",
       "</style>\n",
       "<table border=\"1\" class=\"dataframe\">\n",
       "  <thead>\n",
       "    <tr style=\"text-align: right;\">\n",
       "      <th></th>\n",
       "      <th>action1,</th>\n",
       "      <th>action2</th>\n",
       "      <th>action3</th>\n",
       "      <th>romantic1</th>\n",
       "      <th>romantic2</th>\n",
       "      <th>romantic3</th>\n",
       "    </tr>\n",
       "  </thead>\n",
       "  <tbody>\n",
       "    <tr>\n",
       "      <th>action1,</th>\n",
       "      <td>1.000000</td>\n",
       "      <td>-7.833495e-01</td>\n",
       "      <td>-0.657596</td>\n",
       "      <td>-8.451543e-02</td>\n",
       "      <td>-0.162221</td>\n",
       "      <td>0.530330</td>\n",
       "    </tr>\n",
       "    <tr>\n",
       "      <th>action2</th>\n",
       "      <td>-0.783349</td>\n",
       "      <td>1.000000e+00</td>\n",
       "      <td>0.744073</td>\n",
       "      <td>-4.463703e-17</td>\n",
       "      <td>-0.084717</td>\n",
       "      <td>-0.815481</td>\n",
       "    </tr>\n",
       "    <tr>\n",
       "      <th>action3</th>\n",
       "      <td>-0.657596</td>\n",
       "      <td>7.440729e-01</td>\n",
       "      <td>1.000000</td>\n",
       "      <td>4.168275e-01</td>\n",
       "      <td>-0.626722</td>\n",
       "      <td>-0.813733</td>\n",
       "    </tr>\n",
       "    <tr>\n",
       "      <th>romantic1</th>\n",
       "      <td>-0.084515</td>\n",
       "      <td>-4.463703e-17</td>\n",
       "      <td>0.416828</td>\n",
       "      <td>1.000000e+00</td>\n",
       "      <td>-0.548408</td>\n",
       "      <td>-0.522913</td>\n",
       "    </tr>\n",
       "    <tr>\n",
       "      <th>romantic2</th>\n",
       "      <td>-0.162221</td>\n",
       "      <td>-8.471737e-02</td>\n",
       "      <td>-0.626722</td>\n",
       "      <td>-5.484085e-01</td>\n",
       "      <td>1.000000</td>\n",
       "      <td>0.473170</td>\n",
       "    </tr>\n",
       "    <tr>\n",
       "      <th>romantic3</th>\n",
       "      <td>0.530330</td>\n",
       "      <td>-8.154811e-01</td>\n",
       "      <td>-0.813733</td>\n",
       "      <td>-5.229125e-01</td>\n",
       "      <td>0.473170</td>\n",
       "      <td>1.000000</td>\n",
       "    </tr>\n",
       "  </tbody>\n",
       "</table>\n",
       "</div>"
      ],
      "text/plain": [
       "           action1,       action2   action3     romantic1  romantic2  \\\n",
       "action1,   1.000000 -7.833495e-01 -0.657596 -8.451543e-02  -0.162221   \n",
       "action2   -0.783349  1.000000e+00  0.744073 -4.463703e-17  -0.084717   \n",
       "action3   -0.657596  7.440729e-01  1.000000  4.168275e-01  -0.626722   \n",
       "romantic1 -0.084515 -4.463703e-17  0.416828  1.000000e+00  -0.548408   \n",
       "romantic2 -0.162221 -8.471737e-02 -0.626722 -5.484085e-01   1.000000   \n",
       "romantic3  0.530330 -8.154811e-01 -0.813733 -5.229125e-01   0.473170   \n",
       "\n",
       "           romantic3  \n",
       "action1,    0.530330  \n",
       "action2    -0.815481  \n",
       "action3    -0.813733  \n",
       "romantic1  -0.522913  \n",
       "romantic2   0.473170  \n",
       "romantic3   1.000000  "
      ]
     },
     "execution_count": 6,
     "metadata": {},
     "output_type": "execute_result"
    }
   ],
   "source": [
    "item_similarity_df = pd.DataFrame(item_similarity,index=ratings.columns,columns=ratings.columns)\n",
    "item_similarity_df"
   ]
  },
  {
   "cell_type": "code",
   "execution_count": 7,
   "id": "752bd757",
   "metadata": {},
   "outputs": [
    {
     "name": "stdout",
     "output_type": "stream",
     "text": [
      "action2      1.223222\n",
      "action3      1.220600\n",
      "romantic1    0.784369\n",
      "romantic2   -0.709755\n",
      "action1,    -0.795495\n",
      "romantic3   -1.500000\n",
      "Name: romantic3, dtype: float64\n"
     ]
    }
   ],
   "source": [
    "##making recomendation\n",
    "\n",
    "def get_similar_movies(movie_name,user_rating):\n",
    "    similar_score = item_similarity_df[movie_name]*(user_rating-2.5)\n",
    "    similar_score = similar_score.sort_values(ascending=False)\n",
    "    \n",
    "    return similar_score\n",
    "\n",
    "print(get_similar_movies(\"romantic3\",1))\n"
   ]
  },
  {
   "cell_type": "code",
   "execution_count": 8,
   "id": "b64bff18",
   "metadata": {},
   "outputs": [
    {
     "data": {
      "text/plain": [
       "action1,     1.947837\n",
       "romantic1    1.395693\n",
       "action3      0.516694\n",
       "action2     -0.608076\n",
       "romantic3   -0.883930\n",
       "romantic2   -2.615308\n",
       "dtype: float64"
      ]
     },
     "execution_count": 8,
     "metadata": {},
     "output_type": "execute_result"
    }
   ],
   "source": [
    "#test\n",
    "\n",
    "action_lover = [(\"action1,\",5),(\"romantic2\",1),(\"romantic3\",1)]\n",
    "\n",
    "similar_movies = pd.DataFrame()\n",
    "\n",
    "for movie,rating in action_lover:\n",
    "    similar_movies = similar_movies.append(get_similar_movies(movie,rating),ignore_index=True)\n",
    "    \n",
    "similar_movies.head()\n",
    "\n",
    "similar_movies.sum().sort_values(ascending=False)\n",
    "\n",
    "\n",
    "\n",
    "\n"
   ]
  },
  {
   "cell_type": "code",
   "execution_count": null,
   "id": "72dd5d22",
   "metadata": {},
   "outputs": [],
   "source": []
  },
  {
   "cell_type": "code",
   "execution_count": null,
   "id": "b5018194",
   "metadata": {},
   "outputs": [],
   "source": []
  },
  {
   "cell_type": "code",
   "execution_count": null,
   "id": "c0c8a138",
   "metadata": {},
   "outputs": [],
   "source": []
  },
  {
   "cell_type": "code",
   "execution_count": null,
   "id": "0e23ea26",
   "metadata": {},
   "outputs": [],
   "source": []
  },
  {
   "cell_type": "code",
   "execution_count": null,
   "id": "3dbe70bc",
   "metadata": {},
   "outputs": [],
   "source": []
  },
  {
   "cell_type": "code",
   "execution_count": null,
   "id": "73df90ec",
   "metadata": {},
   "outputs": [],
   "source": []
  },
  {
   "cell_type": "code",
   "execution_count": null,
   "id": "32383276",
   "metadata": {},
   "outputs": [],
   "source": []
  },
  {
   "cell_type": "code",
   "execution_count": null,
   "id": "c3e8b637",
   "metadata": {},
   "outputs": [],
   "source": []
  }
 ],
 "metadata": {
  "kernelspec": {
   "display_name": "Python 3 (ipykernel)",
   "language": "python",
   "name": "python3"
  },
  "language_info": {
   "codemirror_mode": {
    "name": "ipython",
    "version": 3
   },
   "file_extension": ".py",
   "mimetype": "text/x-python",
   "name": "python",
   "nbconvert_exporter": "python",
   "pygments_lexer": "ipython3",
   "version": "3.9.5"
  }
 },
 "nbformat": 4,
 "nbformat_minor": 5
}
